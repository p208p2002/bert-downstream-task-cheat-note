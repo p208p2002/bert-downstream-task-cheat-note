{
 "cells": [
  {
   "cell_type": "markdown",
   "metadata": {},
   "source": [
    "# BertForMaskedLM"
   ]
  },
  {
   "cell_type": "markdown",
   "metadata": {},
   "source": [
    "## 加載"
   ]
  },
  {
   "cell_type": "code",
   "execution_count": 1,
   "metadata": {},
   "outputs": [],
   "source": [
    "import torch\n",
    "import logging"
   ]
  },
  {
   "cell_type": "code",
   "execution_count": 2,
   "metadata": {},
   "outputs": [],
   "source": [
    "# close transformers logging\n",
    "logging.getLogger(\"transformers.file_utils\").setLevel(logging.WARNING)\n",
    "logging.getLogger(\"transformers.tokenization_utils\").setLevel(logging.WARNING)\n",
    "logging.getLogger(\"transformers.modeling_utils\").setLevel(logging.WARNING)\n",
    "logging.getLogger(\"transformers.configuration_utils\").setLevel(logging.WARNING)"
   ]
  },
  {
   "cell_type": "code",
   "execution_count": 3,
   "metadata": {},
   "outputs": [],
   "source": [
    "def use_model(model_name, config_file_path, model_file_path, vocab_file_path, num_labels):\n",
    "    # 選擇模型並加載設定\n",
    "    if(model_name == 'bert'):\n",
    "        from transformers import BertConfig, BertForMaskedLM, BertTokenizer\n",
    "        model_config, model_class, model_tokenizer = (BertConfig, BertForMaskedLM, BertTokenizer)\n",
    "        config = model_config.from_pretrained(config_file_path,num_labels = num_labels)\n",
    "        model = model_class.from_pretrained(model_file_path, from_tf=bool('.ckpt' in 'bert-base-chinese'), config=config)\n",
    "        tokenizer = model_tokenizer.from_pretrained(vocab_file_path)\n",
    "        return model, tokenizer"
   ]
  },
  {
   "cell_type": "code",
   "execution_count": 4,
   "metadata": {},
   "outputs": [],
   "source": [
    "# BERT\n",
    "model_setting = {\n",
    "    \"model_name\":\"bert\", \n",
    "    \"config_file_path\":\"bert-base-chinese\", \n",
    "    \"model_file_path\":\"bert-base-chinese\", \n",
    "    \"vocab_file_path\":\"bert-base-chinese\",\n",
    "    \"num_labels\":149  # 分幾類 \n",
    "}\n",
    "model, tokenizer = use_model(**model_setting)"
   ]
  },
  {
   "cell_type": "markdown",
   "metadata": {},
   "source": [
    "## 處理輸入"
   ]
  },
  {
   "cell_type": "code",
   "execution_count": 5,
   "metadata": {},
   "outputs": [
    {
     "name": "stdout",
     "output_type": "stream",
     "text": [
      "[3706]\n",
      "tensor([[ 101,  791, 1921, 1921,  103, 1963,  862,  136,  102]])\n"
     ]
    }
   ],
   "source": [
    "context = '今天天[MASK]如何?'\n",
    "masked_label = '氣'\n",
    "masked_label_id = tokenizer.encode('氣',add_special_tokens=False) # 3706\n",
    "print(masked_label_id)\n",
    "\n",
    "context_encode = tokenizer.encode_plus(context,add_special_tokens=True,return_tensors='pt')\n",
    "special_taken_padding = 1\n",
    "masked_index = 3 + special_taken_padding\n",
    "\n",
    "print(context_encode['input_ids'])"
   ]
  },
  {
   "cell_type": "markdown",
   "metadata": {},
   "source": [
    "> [CLS]=101, [SEP]=102, [MASK] = 103"
   ]
  },
  {
   "cell_type": "code",
   "execution_count": 6,
   "metadata": {},
   "outputs": [
    {
     "name": "stdout",
     "output_type": "stream",
     "text": [
      "tensor([[-100, -100, -100, -100, 3706, -100, -100, -100, -100]])\n"
     ]
    }
   ],
   "source": [
    "masked_lm_labels = torch.LongTensor([-100]*len(context_encode['input_ids'][0]))\n",
    "masked_lm_labels[masked_index] = torch.LongTensor(masked_label_id)\n",
    "masked_lm_labels = masked_lm_labels.unsqueeze(0) # make batch\n",
    "print(masked_lm_labels)"
   ]
  },
  {
   "cell_type": "markdown",
   "metadata": {},
   "source": [
    "> 設置為-100忽略loss計算，只提供需要預測文字的正確vocab_id"
   ]
  },
  {
   "cell_type": "code",
   "execution_count": 7,
   "metadata": {},
   "outputs": [
    {
     "name": "stdout",
     "output_type": "stream",
     "text": [
      "tensor(0.8557, grad_fn=<NllLossBackward>)\n"
     ]
    }
   ],
   "source": [
    "outputs = model(context_encode['input_ids'], masked_lm_labels=masked_lm_labels)\n",
    "loss, prediction_scores = outputs[:2]\n",
    "print(loss) # 只計算masked_label的loss"
   ]
  },
  {
   "cell_type": "markdown",
   "metadata": {},
   "source": [
    "## 處理輸出、解碼"
   ]
  },
  {
   "cell_type": "code",
   "execution_count": 8,
   "metadata": {},
   "outputs": [
    {
     "name": "stdout",
     "output_type": "stream",
     "text": [
      "torch.Size([1, 9, 21128])\n"
     ]
    }
   ],
   "source": [
    "print(prediction_scores.shape)"
   ]
  },
  {
   "cell_type": "code",
   "execution_count": 9,
   "metadata": {},
   "outputs": [
    {
     "name": "stdout",
     "output_type": "stream",
     "text": [
      "torch.Size([9, 21128])\n"
     ]
    }
   ],
   "source": [
    "prediction_scores = prediction_scores.squeeze(0)\n",
    "print(prediction_scores.shape)"
   ]
  },
  {
   "cell_type": "code",
   "execution_count": 10,
   "metadata": {},
   "outputs": [
    {
     "name": "stdout",
     "output_type": "stream",
     "text": [
      "torch.Size([21128])\n"
     ]
    }
   ],
   "source": [
    "prediction_score = prediction_scores[masked_index]\n",
    "print(prediction_score.shape)"
   ]
  },
  {
   "cell_type": "code",
   "execution_count": 11,
   "metadata": {},
   "outputs": [
    {
     "name": "stdout",
     "output_type": "stream",
     "text": [
      "3698\n"
     ]
    }
   ],
   "source": [
    "vocab_id = torch.argmax(prediction_score).item()\n",
    "print(vocab_id)"
   ]
  },
  {
   "cell_type": "code",
   "execution_count": 12,
   "metadata": {},
   "outputs": [
    {
     "data": {
      "text/plain": [
       "'气'"
      ]
     },
     "execution_count": 12,
     "metadata": {},
     "output_type": "execute_result"
    }
   ],
   "source": [
    "tokenizer.decode(vocab_id)"
   ]
  }
 ],
 "metadata": {
  "kernelspec": {
   "display_name": "Python 3",
   "language": "python",
   "name": "python3"
  },
  "language_info": {
   "codemirror_mode": {
    "name": "ipython",
    "version": 3
   },
   "file_extension": ".py",
   "mimetype": "text/x-python",
   "name": "python",
   "nbconvert_exporter": "python",
   "pygments_lexer": "ipython3",
   "version": "3.6.8"
  }
 },
 "nbformat": 4,
 "nbformat_minor": 2
}
